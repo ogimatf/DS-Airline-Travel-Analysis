{
 "cells": [
  {
   "cell_type": "code",
   "execution_count": 1,
   "metadata": {},
   "outputs": [],
   "source": [
    "##loading the provided datasets"
   ]
  },
  {
   "cell_type": "code",
   "execution_count": 2,
   "metadata": {},
   "outputs": [],
   "source": [
    "import pandas as pd"
   ]
  },
  {
   "cell_type": "code",
   "execution_count": 3,
   "metadata": {},
   "outputs": [],
   "source": [
    "df_2014 = pd.read_csv('2014.csv')"
   ]
  },
  {
   "cell_type": "code",
   "execution_count": 4,
   "metadata": {},
   "outputs": [
    {
     "data": {
      "text/html": [
       "<div>\n",
       "<style scoped>\n",
       "    .dataframe tbody tr th:only-of-type {\n",
       "        vertical-align: middle;\n",
       "    }\n",
       "\n",
       "    .dataframe tbody tr th {\n",
       "        vertical-align: top;\n",
       "    }\n",
       "\n",
       "    .dataframe thead th {\n",
       "        text-align: right;\n",
       "    }\n",
       "</style>\n",
       "<table border=\"1\" class=\"dataframe\">\n",
       "  <thead>\n",
       "    <tr style=\"text-align: right;\">\n",
       "      <th></th>\n",
       "      <th>FL_DATE</th>\n",
       "      <th>OP_CARRIER</th>\n",
       "      <th>OP_CARRIER_FL_NUM</th>\n",
       "      <th>ORIGIN</th>\n",
       "      <th>DEST</th>\n",
       "      <th>CRS_DEP_TIME</th>\n",
       "      <th>DEP_TIME</th>\n",
       "      <th>DEP_DELAY</th>\n",
       "      <th>TAXI_OUT</th>\n",
       "      <th>WHEELS_OFF</th>\n",
       "      <th>...</th>\n",
       "      <th>CRS_ELAPSED_TIME</th>\n",
       "      <th>ACTUAL_ELAPSED_TIME</th>\n",
       "      <th>AIR_TIME</th>\n",
       "      <th>DISTANCE</th>\n",
       "      <th>CARRIER_DELAY</th>\n",
       "      <th>WEATHER_DELAY</th>\n",
       "      <th>NAS_DELAY</th>\n",
       "      <th>SECURITY_DELAY</th>\n",
       "      <th>LATE_AIRCRAFT_DELAY</th>\n",
       "      <th>Unnamed: 27</th>\n",
       "    </tr>\n",
       "  </thead>\n",
       "  <tbody>\n",
       "    <tr>\n",
       "      <th>0</th>\n",
       "      <td>2014-01-01</td>\n",
       "      <td>AA</td>\n",
       "      <td>2377</td>\n",
       "      <td>ICT</td>\n",
       "      <td>DFW</td>\n",
       "      <td>1135</td>\n",
       "      <td>1144.0</td>\n",
       "      <td>9.0</td>\n",
       "      <td>12.0</td>\n",
       "      <td>1156.0</td>\n",
       "      <td>...</td>\n",
       "      <td>85.0</td>\n",
       "      <td>78.0</td>\n",
       "      <td>57.0</td>\n",
       "      <td>328.0</td>\n",
       "      <td>NaN</td>\n",
       "      <td>NaN</td>\n",
       "      <td>NaN</td>\n",
       "      <td>NaN</td>\n",
       "      <td>NaN</td>\n",
       "      <td>NaN</td>\n",
       "    </tr>\n",
       "    <tr>\n",
       "      <th>1</th>\n",
       "      <td>2014-01-01</td>\n",
       "      <td>AA</td>\n",
       "      <td>2378</td>\n",
       "      <td>MIA</td>\n",
       "      <td>TPA</td>\n",
       "      <td>2225</td>\n",
       "      <td>2220.0</td>\n",
       "      <td>-5.0</td>\n",
       "      <td>14.0</td>\n",
       "      <td>2234.0</td>\n",
       "      <td>...</td>\n",
       "      <td>60.0</td>\n",
       "      <td>55.0</td>\n",
       "      <td>37.0</td>\n",
       "      <td>204.0</td>\n",
       "      <td>NaN</td>\n",
       "      <td>NaN</td>\n",
       "      <td>NaN</td>\n",
       "      <td>NaN</td>\n",
       "      <td>NaN</td>\n",
       "      <td>NaN</td>\n",
       "    </tr>\n",
       "    <tr>\n",
       "      <th>2</th>\n",
       "      <td>2014-01-01</td>\n",
       "      <td>EV</td>\n",
       "      <td>2500</td>\n",
       "      <td>DFW</td>\n",
       "      <td>HOU</td>\n",
       "      <td>2105</td>\n",
       "      <td>NaN</td>\n",
       "      <td>NaN</td>\n",
       "      <td>NaN</td>\n",
       "      <td>NaN</td>\n",
       "      <td>...</td>\n",
       "      <td>60.0</td>\n",
       "      <td>NaN</td>\n",
       "      <td>NaN</td>\n",
       "      <td>247.0</td>\n",
       "      <td>NaN</td>\n",
       "      <td>NaN</td>\n",
       "      <td>NaN</td>\n",
       "      <td>NaN</td>\n",
       "      <td>NaN</td>\n",
       "      <td>NaN</td>\n",
       "    </tr>\n",
       "    <tr>\n",
       "      <th>3</th>\n",
       "      <td>2014-01-01</td>\n",
       "      <td>EV</td>\n",
       "      <td>2502</td>\n",
       "      <td>CRW</td>\n",
       "      <td>DFW</td>\n",
       "      <td>1655</td>\n",
       "      <td>1805.0</td>\n",
       "      <td>70.0</td>\n",
       "      <td>6.0</td>\n",
       "      <td>1811.0</td>\n",
       "      <td>...</td>\n",
       "      <td>185.0</td>\n",
       "      <td>180.0</td>\n",
       "      <td>150.0</td>\n",
       "      <td>946.0</td>\n",
       "      <td>0.0</td>\n",
       "      <td>0.0</td>\n",
       "      <td>0.0</td>\n",
       "      <td>0.0</td>\n",
       "      <td>65.0</td>\n",
       "      <td>NaN</td>\n",
       "    </tr>\n",
       "    <tr>\n",
       "      <th>4</th>\n",
       "      <td>2014-01-01</td>\n",
       "      <td>EV</td>\n",
       "      <td>2502</td>\n",
       "      <td>DFW</td>\n",
       "      <td>CRW</td>\n",
       "      <td>1320</td>\n",
       "      <td>1440.0</td>\n",
       "      <td>80.0</td>\n",
       "      <td>9.0</td>\n",
       "      <td>1449.0</td>\n",
       "      <td>...</td>\n",
       "      <td>125.0</td>\n",
       "      <td>115.0</td>\n",
       "      <td>101.0</td>\n",
       "      <td>946.0</td>\n",
       "      <td>6.0</td>\n",
       "      <td>0.0</td>\n",
       "      <td>0.0</td>\n",
       "      <td>0.0</td>\n",
       "      <td>64.0</td>\n",
       "      <td>NaN</td>\n",
       "    </tr>\n",
       "  </tbody>\n",
       "</table>\n",
       "<p>5 rows × 28 columns</p>\n",
       "</div>"
      ],
      "text/plain": [
       "      FL_DATE OP_CARRIER  OP_CARRIER_FL_NUM ORIGIN DEST  CRS_DEP_TIME  \\\n",
       "0  2014-01-01         AA               2377    ICT  DFW          1135   \n",
       "1  2014-01-01         AA               2378    MIA  TPA          2225   \n",
       "2  2014-01-01         EV               2500    DFW  HOU          2105   \n",
       "3  2014-01-01         EV               2502    CRW  DFW          1655   \n",
       "4  2014-01-01         EV               2502    DFW  CRW          1320   \n",
       "\n",
       "   DEP_TIME  DEP_DELAY  TAXI_OUT  WHEELS_OFF  ...  CRS_ELAPSED_TIME  \\\n",
       "0    1144.0        9.0      12.0      1156.0  ...              85.0   \n",
       "1    2220.0       -5.0      14.0      2234.0  ...              60.0   \n",
       "2       NaN        NaN       NaN         NaN  ...              60.0   \n",
       "3    1805.0       70.0       6.0      1811.0  ...             185.0   \n",
       "4    1440.0       80.0       9.0      1449.0  ...             125.0   \n",
       "\n",
       "   ACTUAL_ELAPSED_TIME  AIR_TIME  DISTANCE  CARRIER_DELAY  WEATHER_DELAY  \\\n",
       "0                 78.0      57.0     328.0            NaN            NaN   \n",
       "1                 55.0      37.0     204.0            NaN            NaN   \n",
       "2                  NaN       NaN     247.0            NaN            NaN   \n",
       "3                180.0     150.0     946.0            0.0            0.0   \n",
       "4                115.0     101.0     946.0            6.0            0.0   \n",
       "\n",
       "  NAS_DELAY  SECURITY_DELAY  LATE_AIRCRAFT_DELAY  Unnamed: 27  \n",
       "0       NaN             NaN                  NaN          NaN  \n",
       "1       NaN             NaN                  NaN          NaN  \n",
       "2       NaN             NaN                  NaN          NaN  \n",
       "3       0.0             0.0                 65.0          NaN  \n",
       "4       0.0             0.0                 64.0          NaN  \n",
       "\n",
       "[5 rows x 28 columns]"
      ]
     },
     "execution_count": 4,
     "metadata": {},
     "output_type": "execute_result"
    }
   ],
   "source": [
    "df_2014.head()"
   ]
  },
  {
   "cell_type": "code",
   "execution_count": 5,
   "metadata": {},
   "outputs": [
    {
     "data": {
      "text/plain": [
       "<bound method NDFrame.describe of             FL_DATE OP_CARRIER  OP_CARRIER_FL_NUM ORIGIN DEST  CRS_DEP_TIME  \\\n",
       "0        2014-01-01         AA               2377    ICT  DFW          1135   \n",
       "1        2014-01-01         AA               2378    MIA  TPA          2225   \n",
       "2        2014-01-01         EV               2500    DFW  HOU          2105   \n",
       "3        2014-01-01         EV               2502    CRW  DFW          1655   \n",
       "4        2014-01-01         EV               2502    DFW  CRW          1320   \n",
       "...             ...        ...                ...    ...  ...           ...   \n",
       "5819806  2014-12-31         MQ               3552    RDU  LGA           640   \n",
       "5819807  2014-12-31         MQ               3555    CMH  ORD           720   \n",
       "5819808  2014-12-31         MQ               3564    GSO  LGA          1010   \n",
       "5819809  2014-12-31         MQ               3611    CAE  DFW           600   \n",
       "5819810  2014-12-31         MQ               3612    CLL  DFW          1120   \n",
       "\n",
       "         DEP_TIME  DEP_DELAY  TAXI_OUT  WHEELS_OFF  ...  CRS_ELAPSED_TIME  \\\n",
       "0          1144.0        9.0      12.0      1156.0  ...              85.0   \n",
       "1          2220.0       -5.0      14.0      2234.0  ...              60.0   \n",
       "2             NaN        NaN       NaN         NaN  ...              60.0   \n",
       "3          1805.0       70.0       6.0      1811.0  ...             185.0   \n",
       "4          1440.0       80.0       9.0      1449.0  ...             125.0   \n",
       "...           ...        ...       ...         ...  ...               ...   \n",
       "5819806     635.0       -5.0      37.0       712.0  ...             100.0   \n",
       "5819807     752.0       32.0      11.0       803.0  ...              90.0   \n",
       "5819808    1007.0       -3.0       8.0      1015.0  ...              95.0   \n",
       "5819809     556.0       -4.0      17.0       613.0  ...             185.0   \n",
       "5819810    1125.0        5.0       7.0      1132.0  ...              55.0   \n",
       "\n",
       "         ACTUAL_ELAPSED_TIME  AIR_TIME  DISTANCE  CARRIER_DELAY  \\\n",
       "0                       78.0      57.0     328.0            NaN   \n",
       "1                       55.0      37.0     204.0            NaN   \n",
       "2                        NaN       NaN     247.0            NaN   \n",
       "3                      180.0     150.0     946.0            0.0   \n",
       "4                      115.0     101.0     946.0            6.0   \n",
       "...                      ...       ...       ...            ...   \n",
       "5819806                101.0      59.0     431.0            NaN   \n",
       "5819807                110.0      58.0     296.0           32.0   \n",
       "5819808                 76.0      64.0     461.0            NaN   \n",
       "5819809                188.0     164.0     922.0            NaN   \n",
       "5819810                 51.0      37.0     164.0            NaN   \n",
       "\n",
       "         WEATHER_DELAY NAS_DELAY  SECURITY_DELAY  LATE_AIRCRAFT_DELAY  \\\n",
       "0                  NaN       NaN             NaN                  NaN   \n",
       "1                  NaN       NaN             NaN                  NaN   \n",
       "2                  NaN       NaN             NaN                  NaN   \n",
       "3                  0.0       0.0             0.0                 65.0   \n",
       "4                  0.0       0.0             0.0                 64.0   \n",
       "...                ...       ...             ...                  ...   \n",
       "5819806            NaN       NaN             NaN                  NaN   \n",
       "5819807            0.0      20.0             0.0                  0.0   \n",
       "5819808            NaN       NaN             NaN                  NaN   \n",
       "5819809            NaN       NaN             NaN                  NaN   \n",
       "5819810            NaN       NaN             NaN                  NaN   \n",
       "\n",
       "         Unnamed: 27  \n",
       "0                NaN  \n",
       "1                NaN  \n",
       "2                NaN  \n",
       "3                NaN  \n",
       "4                NaN  \n",
       "...              ...  \n",
       "5819806          NaN  \n",
       "5819807          NaN  \n",
       "5819808          NaN  \n",
       "5819809          NaN  \n",
       "5819810          NaN  \n",
       "\n",
       "[5819811 rows x 28 columns]>"
      ]
     },
     "execution_count": 5,
     "metadata": {},
     "output_type": "execute_result"
    }
   ],
   "source": [
    "df_2014.describe"
   ]
  },
  {
   "cell_type": "code",
   "execution_count": 6,
   "metadata": {},
   "outputs": [],
   "source": [
    "df_2015 = pd.read_csv('2015.csv')\n",
    "df_2016 = pd.read_csv('2016.csv')\n",
    "df_2017 = pd.read_csv('2017.csv')\n",
    "df_2018 = pd.read_csv('2018.csv')"
   ]
  },
  {
   "cell_type": "code",
   "execution_count": 7,
   "metadata": {},
   "outputs": [],
   "source": [
    "dataframes = {'2014' : df_2014,\n",
    "              '2015' : df_2015,\n",
    "              '2016' : df_2016,\n",
    "              '2017' : df_2017,\n",
    "              '2018' : df_2018}"
   ]
  },
  {
   "cell_type": "code",
   "execution_count": 8,
   "metadata": {},
   "outputs": [
    {
     "name": "stdout",
     "output_type": "stream",
     "text": [
      "2014 :  (5819811, 28)\n",
      "2015 :  (5819079, 28)\n",
      "2016 :  (5617658, 28)\n",
      "2017 :  (5674621, 28)\n",
      "2018 :  (7213446, 28)\n"
     ]
    }
   ],
   "source": [
    "for df in dataframes:\n",
    "    print(df, \": \", dataframes[df].shape)"
   ]
  },
  {
   "cell_type": "code",
   "execution_count": 9,
   "metadata": {},
   "outputs": [],
   "source": [
    "## combined departure delay times from dataframes 2014-2018\n",
    "df_comb_dep_delay = pd.concat([df['DEP_DELAY'] for df in dataframes.values()])"
   ]
  },
  {
   "cell_type": "code",
   "execution_count": 10,
   "metadata": {},
   "outputs": [
    {
     "data": {
      "text/plain": [
       "(30144615,)"
      ]
     },
     "execution_count": 10,
     "metadata": {},
     "output_type": "execute_result"
    }
   ],
   "source": [
    "df_comb_dep_delay.shape"
   ]
  },
  {
   "cell_type": "code",
   "execution_count": 11,
   "metadata": {},
   "outputs": [
    {
     "data": {
      "text/plain": [
       "count    2.967469e+07\n",
       "mean     9.743912e+00\n",
       "std      4.084770e+01\n",
       "min     -2.510000e+02\n",
       "25%     -5.000000e+00\n",
       "50%     -2.000000e+00\n",
       "75%      7.000000e+00\n",
       "max      2.755000e+03\n",
       "Name: DEP_DELAY, dtype: float64"
      ]
     },
     "execution_count": 11,
     "metadata": {},
     "output_type": "execute_result"
    }
   ],
   "source": [
    "df_comb_dep_delay.describe()"
   ]
  },
  {
   "cell_type": "code",
   "execution_count": 12,
   "metadata": {},
   "outputs": [],
   "source": [
    "import statistics"
   ]
  },
  {
   "cell_type": "code",
   "execution_count": 13,
   "metadata": {},
   "outputs": [
    {
     "name": "stdout",
     "output_type": "stream",
     "text": [
      "9.743912210430391\n"
     ]
    }
   ],
   "source": [
    "print(df_comb_dep_delay.mean())"
   ]
  },
  {
   "cell_type": "code",
   "execution_count": 14,
   "metadata": {},
   "outputs": [
    {
     "name": "stdout",
     "output_type": "stream",
     "text": [
      "-2.0\n"
     ]
    }
   ],
   "source": [
    "print(df_comb_dep_delay.median())"
   ]
  },
  {
   "cell_type": "markdown",
   "metadata": {},
   "source": [
    "The difference between the mean value and the median indicates in departure delay that there are more flights that have a negative delay rather than positive (which means that they depart early), but when a delay occurs it tends to be supstantial (greatly above 9 minutes)."
   ]
  },
  {
   "cell_type": "code",
   "execution_count": 15,
   "metadata": {},
   "outputs": [
    {
     "name": "stdout",
     "output_type": "stream",
     "text": [
      "4.939717464950979\n",
      "-5.0\n"
     ]
    }
   ],
   "source": [
    "## combined arrival delay times from dataframes 2014-2018\n",
    "df_comb_arr_delay = pd.concat([df['ARR_DELAY'] for df in dataframes.values()])\n",
    "print(df_comb_arr_delay.mean())\n",
    "print(df_comb_arr_delay.median())"
   ]
  },
  {
   "cell_type": "code",
   "execution_count": 16,
   "metadata": {},
   "outputs": [],
   "source": [
    "del df_comb_arr_delay\n",
    "del df_comb_dep_delay"
   ]
  },
  {
   "cell_type": "markdown",
   "metadata": {},
   "source": [
    "When it comes to arrival delays time, a similar effect can be noticed. There are more delays that are lower in value, but there are higher positive values that widen the gap between the mean and the median.\n",
    "Both of the mean and median values are lower for arrival delay than the departure delay which could indicate that the pilots tend to try to arrive earlier.\n",
    "\n",
    "The value of the mean delay time indicates that the average flight arrives on time (it is considered on time if the arrival delay is less that 15 minutes)"
   ]
  },
  {
   "cell_type": "code",
   "execution_count": 17,
   "metadata": {},
   "outputs": [],
   "source": [
    "from tabulate import tabulate"
   ]
  },
  {
   "cell_type": "code",
   "execution_count": 18,
   "metadata": {},
   "outputs": [
    {
     "name": "stdout",
     "output_type": "stream",
     "text": [
      "DELAY_TYPE                 MEAN    MEDIAN\n",
      "-------------------  ----------  --------\n",
      "CARRIER_DELAY        19.0782            1\n",
      "WEATHER_DELAY         2.9049            0\n",
      "NAS_DELAY            14.6919            2\n",
      "SECURITY_DELAY        0.0794567         0\n",
      "LATE_AIRCRAFT_DELAY  24.5113            4\n"
     ]
    }
   ],
   "source": [
    "tabulate_data = []\n",
    "tabulate_data_col_names = [\"DELAY_TYPE\", \"MEAN\", \"MEDIAN\"]\n",
    "\n",
    "other_delays = ['CARRIER_DELAY', 'WEATHER_DELAY', 'NAS_DELAY', 'SECURITY_DELAY', 'LATE_AIRCRAFT_DELAY']\n",
    "\n",
    "for delay_type in other_delays:\n",
    "    df_comb = pd.concat([df[delay_type] for df in dataframes.values()])\n",
    "    tabulate_data.append([delay_type, df_comb.mean(), df_comb.median()])\n",
    "    del df_comb\n",
    "    \n",
    "print(tabulate(tabulate_data, headers = tabulate_data_col_names))"
   ]
  },
  {
   "cell_type": "markdown",
   "metadata": {},
   "source": [
    "Looking at the median values of the other types of delays, it can be said that they don't happen often, and most of them are small delays of 0-4 minutes. But judging by the mean values: CARRIER, NAS and LATE_AIRCRAFT delays can contribute a lot to the overall delay of the flights."
   ]
  },
  {
   "cell_type": "code",
   "execution_count": 19,
   "metadata": {},
   "outputs": [],
   "source": [
    "from scipy.stats import skew\n",
    "from scipy.stats import kurtosis"
   ]
  },
  {
   "cell_type": "code",
   "execution_count": 20,
   "metadata": {},
   "outputs": [
    {
     "name": "stdout",
     "output_type": "stream",
     "text": [
      "DELAY_TYPE               SKEW    KURTOSIS\n",
      "-------------------  --------  ----------\n",
      "DEP_DELAY            1.05722      2.56056\n",
      "ARR_DELAY            0.555861     2.03269\n",
      "CARRIER_DELAY        0            0\n",
      "WEATHER_DELAY        0            0\n",
      "NAS_DELAY            0            0\n",
      "SECURITY_DELAY       0            0\n",
      "LATE_AIRCRAFT_DELAY  0            0\n"
     ]
    }
   ],
   "source": [
    "tabulate_data = []\n",
    "tabulate_data_col_names = [\"DELAY_TYPE\", \"SKEW\", \"KURTOSIS\"]\n",
    "\n",
    "other_delays = ['DEP_DELAY', 'ARR_DELAY', 'CARRIER_DELAY', 'WEATHER_DELAY', 'NAS_DELAY', 'SECURITY_DELAY', 'LATE_AIRCRAFT_DELAY']\n",
    "\n",
    "for delay_type in other_delays:\n",
    "    df_comb = pd.concat([df[delay_type] for df in dataframes.values()])\n",
    "    tabulate_data.append([delay_type, skew(df_comb[0], nan_policy='omit'), kurtosis(df_comb[0], fisher = False, nan_policy='omit')])\n",
    "    del df_comb\n",
    "    \n",
    "print(tabulate(tabulate_data, headers = tabulate_data_col_names))"
   ]
  },
  {
   "cell_type": "code",
   "execution_count": 21,
   "metadata": {},
   "outputs": [
    {
     "data": {
      "image/png": "[encoded data removed]",
      "text/plain": [
       "<Figure size 432x288 with 1 Axes>"
      ]
     },
     "metadata": {
      "needs_background": "light"
     },
     "output_type": "display_data"
    }
   ],
   "source": [
    "import matplotlib.pyplot as plt\n",
    "\n",
    "df_comb_dep_delay = pd.concat([df['DEP_DELAY'] for df in dataframes.values()])\n",
    "\n",
    "df_comb_dep_delay = df_comb_dep_delay.dropna()\n",
    "\n",
    "plt.hist(df_comb_dep_delay, range=(-50, 225), color = 'blue', edgecolor = 'black', bins = int(30))\n",
    "\n",
    "plt.title('Histogram of Departure Delays')\n",
    "plt.xlabel('Delay (min)')\n",
    "plt.ylabel('Flights')\n",
    "\n",
    "del df_comb_dep_delay"
   ]
  },
  {
   "cell_type": "code",
   "execution_count": 22,
   "metadata": {},
   "outputs": [
    {
     "data": {
      "image/png": "[encoded data removed]",
      "text/plain": [
       "<Figure size 432x288 with 1 Axes>"
      ]
     },
     "metadata": {
      "needs_background": "light"
     },
     "output_type": "display_data"
    }
   ],
   "source": [
    "df_comb_arr_delay = pd.concat([df['ARR_DELAY'] for df in dataframes.values()])\n",
    "\n",
    "df_comb_arr_delay = df_comb_arr_delay.dropna()\n",
    "\n",
    "plt.hist(df_comb_arr_delay, range=(-50, 225), color = 'orange', edgecolor = 'black', bins = int(30))\n",
    "\n",
    "plt.title('Histogram of Arrival Delays')\n",
    "plt.xlabel('Delay (min)')\n",
    "plt.ylabel('Flights')\n",
    "\n",
    "del df_comb_arr_delay"
   ]
  },
  {
   "cell_type": "markdown",
   "metadata": {},
   "source": [
    "The skewness of arrival delay and departure delay are both positive, which indicates that the data is skewed right. The tail of the distributions are longer to the right (in the direction of higher values). This means that there are a lot of flights close to the mean, but there are supstantially more flights that delay an extreme amount rather than come extremely early."
   ]
  },
  {
   "cell_type": "markdown",
   "metadata": {},
   "source": [
    "Kurtosis was calculated using the Pearson formula (kurtosis for normal distribution is 3). The calculated kurtosis for departure and arrival delay are less than 3 (between 2 and 3), which indicates negative curtosis. This means that the distributions are \"light-tailed\" and they have most of the values near the mean and fewer values in the tails"
   ]
  },
  {
   "cell_type": "code",
   "execution_count": 23,
   "metadata": {},
   "outputs": [],
   "source": [
    "import scipy.stats as st\n",
    "\n",
    "def get_best_distribution(data):\n",
    "    dist_names = [\"norm\", \"exponweib\", \"weibull_max\", \"weibull_min\", \"pareto\", \"genextreme\"]\n",
    "    dist_results = []\n",
    "    params = {}\n",
    "    for dist_name in dist_names:\n",
    "        dist = getattr(st, dist_name)\n",
    "        param = dist.fit(data)\n",
    "\n",
    "        params[dist_name] = param\n",
    "        # Applying the Kolmogorov-Smirnov test\n",
    "        D, p = st.kstest(data, dist_name, args=param)\n",
    "        print(\"p value for \"+dist_name+\" = \"+str(p))\n",
    "        dist_results.append((dist_name, p))\n",
    "\n",
    "    # select the best fitted distribution\n",
    "    best_dist, best_p = (max(dist_results, key=lambda item: item[1]))\n",
    "    # store the name of the best fit and its p value\n",
    "\n",
    "    print(\"Best fitting distribution: \"+str(best_dist))\n",
    "    print(\"Best p value: \"+ str(best_p))\n",
    "    print(\"Parameters for the best fit: \"+ str(params[best_dist]))\n",
    "\n",
    "    return best_dist, best_p, params[best_dist]"
   ]
  },
  {
   "cell_type": "code",
   "execution_count": 24,
   "metadata": {},
   "outputs": [
    {
     "data": {
      "text/plain": [
       "Text(0, 0.5, 'Flights (number)')"
      ]
     },
     "execution_count": 24,
     "metadata": {},
     "output_type": "execute_result"
    },
    {
     "data": {
      "image/png": "[encoded data removed]",
      "text/plain": [
       "<Figure size 432x288 with 1 Axes>"
      ]
     },
     "metadata": {
      "needs_background": "light"
     },
     "output_type": "display_data"
    }
   ],
   "source": [
    "df_comb_dep_delay = pd.concat([df['DEP_DELAY'] for df in dataframes.values()])\n",
    "\n",
    "df_comb_dep_delay = df_comb_dep_delay.dropna()\n",
    "\n",
    "df_comb_dep_delay = df_comb_dep_delay[(-50 < df_comb_dep_delay) & (df_comb_dep_delay < 225)]\n",
    "\n",
    "df_comb_dep_delay_sample = df_comb_dep_delay.sample(n=10000)\n",
    "\n",
    "plt.hist(df_comb_dep_delay_sample, range=(-50, 225), color = 'blue', edgecolor = 'black', bins = int(30))\n",
    "\n",
    "plt.title('Histogram of Sample of Departure Delays')\n",
    "plt.xlabel('Delay (min)')\n",
    "plt.ylabel('Flights (number)')"
   ]
  },
  {
   "cell_type": "code",
   "execution_count": 25,
   "metadata": {},
   "outputs": [
    {
     "name": "stdout",
     "output_type": "stream",
     "text": [
      "p value for norm = 0.0\n",
      "p value for exponweib = 1.6169958030172455e-274\n",
      "p value for weibull_max = 0.0\n",
      "p value for weibull_min = 0.0\n"
     ]
    },
    {
     "name": "stderr",
     "output_type": "stream",
     "text": [
      "C:\\Users\\Ogi\\AppData\\Local\\Programs\\Python\\Python38\\lib\\site-packages\\scipy\\stats\\_distn_infrastructure.py:2407: RuntimeWarning: invalid value encountered in double_scalars\n",
      "  Lhat = muhat - Shat*mu\n"
     ]
    },
    {
     "name": "stdout",
     "output_type": "stream",
     "text": [
      "p value for pareto = 0.0\n",
      "p value for genextreme = 2.4709443865165928e-251\n",
      "Best fitting distribution: genextreme\n",
      "Best p value: 2.4709443865165928e-251\n",
      "Parameters for the best fit: (-0.26153650894968283, -2.7426319499821785, 9.238460200692643)\n",
      "('genextreme', 2.4709443865165928e-251, (-0.26153650894968283, -2.7426319499821785, 9.238460200692643))\n"
     ]
    }
   ],
   "source": [
    "print(get_best_distribution(df_comb_dep_delay_sample))\n",
    "\n",
    "del df_comb_dep_delay\n",
    "del df_comb_dep_delay_sample"
   ]
  },
  {
   "cell_type": "code",
   "execution_count": 26,
   "metadata": {},
   "outputs": [
    {
     "data": {
      "text/plain": [
       "Text(0, 0.5, 'Flights (number)')"
      ]
     },
     "execution_count": 26,
     "metadata": {},
     "output_type": "execute_result"
    },
    {
     "data": {
      "image/png": "[encoded data removed]",
      "text/plain": [
       "<Figure size 432x288 with 1 Axes>"
      ]
     },
     "metadata": {
      "needs_background": "light"
     },
     "output_type": "display_data"
    }
   ],
   "source": [
    "df_comb_arr_delay = pd.concat([df['ARR_DELAY'] for df in dataframes.values()])\n",
    "\n",
    "df_comb_arr_delay = df_comb_arr_delay.dropna()\n",
    "\n",
    "df_comb_arr_delay = df_comb_arr_delay[(-50 < df_comb_arr_delay) & (df_comb_arr_delay < 225)]\n",
    "\n",
    "df_comb_arr_delay_sample = df_comb_arr_delay.sample(n=10000)\n",
    "\n",
    "plt.hist(df_comb_arr_delay_sample, range=(-50, 225), color = 'orange', edgecolor = 'black', bins = int(30))\n",
    "\n",
    "plt.title('Histogram of Sample of Arrival Delays')\n",
    "plt.xlabel('Delay (min)')\n",
    "plt.ylabel('Flights (number)')"
   ]
  },
  {
   "cell_type": "code",
   "execution_count": 27,
   "metadata": {},
   "outputs": [
    {
     "name": "stdout",
     "output_type": "stream",
     "text": [
      "p value for norm = 0.0\n",
      "p value for exponweib = 1.6450427549783023e-53\n",
      "p value for weibull_max = 0.0\n",
      "p value for weibull_min = 0.0\n",
      "p value for pareto = 0.0\n",
      "p value for genextreme = 4.785310082740157e-48\n",
      "Best fitting distribution: genextreme\n",
      "Best p value: 4.785310082740157e-48\n",
      "Parameters for the best fit: (-0.15647334734237786, -10.016649787833792, 16.53664690047996)\n",
      "('genextreme', 4.785310082740157e-48, (-0.15647334734237786, -10.016649787833792, 16.53664690047996))\n"
     ]
    }
   ],
   "source": [
    "print(get_best_distribution(df_comb_arr_delay_sample))\n",
    "\n",
    "del df_comb_arr_delay\n",
    "del df_comb_arr_delay_sample"
   ]
  },
  {
   "cell_type": "markdown",
   "metadata": {},
   "source": [
    "To determine which theoretical distribution would fit the delay a goodness of fit test was used for different distributions. The test returns the probability that our data corresponds to the given distribution type.\n",
    "The highest probability distribution turned out to be the Genextreme Distribution for both the departure delay and arrival delay data.\n",
    "Using the example image for the Genextreme Distribution we can see that it looks coherent to the histograms of departure and arrival delays\n",
    "\n",
    "\n",
    "![Genex-Dist-example](scipy-stats-genextreme-1.png)\n",
    "\n",
    "(image source: docs.scipy.org)"
   ]
  },
  {
   "cell_type": "code",
   "execution_count": 28,
   "metadata": {},
   "outputs": [
    {
     "name": "stdout",
     "output_type": "stream",
     "text": [
      "Means of different types of delays by year:\n",
      "\n",
      "  YEAR    DEP_DELAY    ARR_DELAY    CARRIER_DELAY    WEATHER_DELAY    NAS_DELAY    SECURITY_DELAY    LATE_AIRCRAFT_DELAY\n",
      "------  -----------  -----------  ---------------  ---------------  -----------  ----------------  ---------------------\n",
      "  2014     10.6421       7.32807          17.1374          2.40919      13.3165         0.0526792                23.7673\n",
      "  2015      9.37016      4.40706          18.9695          2.91529      13.4806         0.0761539                23.4728\n",
      "  2016      8.93801      3.51929          20.2578          2.70274      14.6962         0.0849634                24.3284\n",
      "  2017      9.72573      4.32636          19.9293          2.7196       16.0284         0.091474                 25.1634\n",
      "  2018      9.96986      5.04858          19.455           3.63646      15.8855         0.0935389                25.6441\n"
     ]
    }
   ],
   "source": [
    "tabulate_data = []\n",
    "tabulate_data_col_names = [\"YEAR\", 'DEP_DELAY', 'ARR_DELAY', 'CARRIER_DELAY', 'WEATHER_DELAY', 'NAS_DELAY', 'SECURITY_DELAY', 'LATE_AIRCRAFT_DELAY']\n",
    "delay_types = ['DEP_DELAY', 'ARR_DELAY', 'CARRIER_DELAY', 'WEATHER_DELAY', 'NAS_DELAY', 'SECURITY_DELAY', 'LATE_AIRCRAFT_DELAY']\n",
    "\n",
    "years = [\"2014\", \"2015\", \"2016\", \"2017\", \"2018\"]\n",
    "y = 0\n",
    "\n",
    "\n",
    "for year in years:\n",
    "    means = [dataframes[year][dt].mean() for dt in delay_types]\n",
    "    \n",
    "    tabulate_data_row = [year]\n",
    "    \n",
    "    for m in means:\n",
    "        tabulate_data_row.append(m)\n",
    "    \n",
    "    tabulate_data.append(tabulate_data_row)\n",
    "    y = y + 1\n",
    "\n",
    "print(\"Means of different types of delays by year:\\n\")\n",
    "print(tabulate(tabulate_data, headers = tabulate_data_col_names))"
   ]
  },
  {
   "cell_type": "code",
   "execution_count": 29,
   "metadata": {},
   "outputs": [
    {
     "name": "stdout",
     "output_type": "stream",
     "text": [
      "Medians of different types of delays by year:\n",
      "\n",
      "  YEAR    DEP_DELAY    ARR_DELAY    CARRIER_DELAY    WEATHER_DELAY    NAS_DELAY    SECURITY_DELAY    LATE_AIRCRAFT_DELAY\n",
      "------  -----------  -----------  ---------------  ---------------  -----------  ----------------  ---------------------\n",
      "  2014           -1           -3                2                0            3                 0                      7\n",
      "  2015           -2           -5                2                0            2                 0                      3\n",
      "  2016           -2           -6                1                0            2                 0                      2\n",
      "  2017           -2           -6                1                0            2                 0                      4\n",
      "  2018           -2           -6                0                0            3                 0                      3\n"
     ]
    }
   ],
   "source": [
    "tabulate_data = []\n",
    "tabulate_data_col_names = [\"YEAR\", 'DEP_DELAY', 'ARR_DELAY', 'CARRIER_DELAY', 'WEATHER_DELAY', 'NAS_DELAY', 'SECURITY_DELAY', 'LATE_AIRCRAFT_DELAY']\n",
    "delay_types = ['DEP_DELAY', 'ARR_DELAY', 'CARRIER_DELAY', 'WEATHER_DELAY', 'NAS_DELAY', 'SECURITY_DELAY', 'LATE_AIRCRAFT_DELAY']\n",
    "\n",
    "years = [\"2014\", \"2015\", \"2016\", \"2017\", \"2018\"]\n",
    "\n",
    "y = 0\n",
    "\n",
    "\n",
    "for year in years:\n",
    "    medians = [dataframes[year][dt].median() for dt in delay_types]\n",
    "    \n",
    "    tabulate_data_row = [year]\n",
    "    \n",
    "    for m in medians:\n",
    "        tabulate_data_row.append(m)\n",
    "    \n",
    "    tabulate_data.append(tabulate_data_row)\n",
    "    y = y + 1\n",
    "\n",
    "print(\"Medians of different types of delays by year:\\n\")\n",
    "print(tabulate(tabulate_data, headers = tabulate_data_col_names))"
   ]
  },
  {
   "cell_type": "markdown",
   "metadata": {},
   "source": [
    "Judging by the above tables of means and medians, some noteworthy observations could be:\n",
    "1. The average departure and arrival delay was highest in 2014, and lowest in 2016\n",
    "2. Weather delay was relativelty high in 2018\n",
    "3. More delays occured due to a previous aircraft being delayed in 2014 but that didn't contribute much to the average that year."
   ]
  },
  {
   "cell_type": "code",
   "execution_count": 36,
   "metadata": {},
   "outputs": [
    {
     "name": "stdout",
     "output_type": "stream",
     "text": [
      "DELAY_TYPE                   Q1          Q2          Q3        Q4\n",
      "-------------------  ----------  ----------  ----------  --------\n",
      "DEP_DELAY             9.80702    10.6266     10.3973      8.09318\n",
      "ARR_DELAY             4.77119     6.12952     5.88945     2.88579\n",
      "CARRIER_DELAY        19.1016     18.8848     19.3662     18.9427\n",
      "WEATHER_DELAY         3.11215     3.00308     3.05539     2.38593\n",
      "NAS_DELAY            14.0069     15.0713     15.3616     14.1873\n",
      "SECURITY_DELAY        0.0676473   0.0666915   0.0906937   0.09413\n",
      "LATE_AIRCRAFT_DELAY  23.7224     25.4802     25.4847     23.0566\n"
     ]
    }
   ],
   "source": [
    "tabulate_data = []\n",
    "tabulate_data_col_names = [\"DELAY_TYPE\", \"Q1\", \"Q2\", \"Q3\", \"Q4\"]\n",
    "\n",
    "\n",
    "other_delays = ['DEP_DELAY', 'ARR_DELAY', 'CARRIER_DELAY', 'WEATHER_DELAY', 'NAS_DELAY', 'SECURITY_DELAY', 'LATE_AIRCRAFT_DELAY']\n",
    "\n",
    "for delay_type in other_delays:\n",
    "    \n",
    "    concat_attr = [delay_type, 'FL_DATE']\n",
    "    df_concat = pd.concat([df[concat_attr] for df in dataframes.values()])\n",
    "    df_concat['FL_DATE'] = pd.to_datetime(df_concat['FL_DATE'])\n",
    "    df_concat['QUARTER'] = df_concat['FL_DATE'].dt.quarter\n",
    "    \n",
    "    df_q1 = df_concat[df_concat['QUARTER'] == 1]\n",
    "    df_q2 = df_concat[df_concat['QUARTER'] == 2]\n",
    "    df_q3 = df_concat[df_concat['QUARTER'] == 3]\n",
    "    df_q4 = df_concat[df_concat['QUARTER'] == 4]\n",
    "    \n",
    "    means = []\n",
    "    \n",
    "    means.append(df_q1[delay_type].mean())\n",
    "    means.append(df_q2[delay_type].mean())\n",
    "    means.append(df_q3[delay_type].mean())\n",
    "    means.append(df_q4[delay_type].mean())\n",
    "    \n",
    "    tabulate_data_row = [delay_type]\n",
    "    \n",
    "    for m in means:\n",
    "        tabulate_data_row.append(m)\n",
    "    \n",
    "    tabulate_data.append(tabulate_data_row)\n",
    "    \n",
    "    del df_concat\n",
    "    del df_q1\n",
    "    del df_q2\n",
    "    del df_q3\n",
    "    del df_q4\n",
    "\n",
    "    \n",
    "print(\"Means of different types of delays by quarter:\\n\")\n",
    "print(tabulate(tabulate_data, headers = tabulate_data_col_names))"
   ]
  },
  {
   "cell_type": "code",
   "execution_count": 38,
   "metadata": {},
   "outputs": [
    {
     "name": "stdout",
     "output_type": "stream",
     "text": [
      "DELAY_TYPE             Q1    Q2    Q3    Q4\n",
      "-------------------  ----  ----  ----  ----\n",
      "DEP_DELAY              -2    -2    -2    -2\n",
      "ARR_DELAY              -5    -5    -5    -6\n",
      "CARRIER_DELAY           2     1     1     1\n",
      "WEATHER_DELAY           0     0     0     0\n",
      "NAS_DELAY               3     2     2     3\n",
      "SECURITY_DELAY          0     0     0     0\n",
      "LATE_AIRCRAFT_DELAY     4     6     4     3\n"
     ]
    }
   ],
   "source": [
    "tabulate_data = []\n",
    "tabulate_data_col_names = [\"DELAY_TYPE\", \"Q1\", \"Q2\", \"Q3\", \"Q4\"]\n",
    "\n",
    "\n",
    "other_delays = ['DEP_DELAY', 'ARR_DELAY', 'CARRIER_DELAY', 'WEATHER_DELAY', 'NAS_DELAY', 'SECURITY_DELAY', 'LATE_AIRCRAFT_DELAY']\n",
    "\n",
    "for delay_type in other_delays:\n",
    "    \n",
    "    concat_attr = [delay_type, 'FL_DATE']\n",
    "    df_concat = pd.concat([df[concat_attr] for df in dataframes.values()])\n",
    "    df_concat['FL_DATE'] = pd.to_datetime(df_concat['FL_DATE'])\n",
    "    df_concat['QUARTER'] = df_concat['FL_DATE'].dt.quarter\n",
    "    \n",
    "    df_q1 = df_concat[df_concat['QUARTER'] == 1]\n",
    "    df_q2 = df_concat[df_concat['QUARTER'] == 2]\n",
    "    df_q3 = df_concat[df_concat['QUARTER'] == 3]\n",
    "    df_q4 = df_concat[df_concat['QUARTER'] == 4]\n",
    "    \n",
    "    medians = []\n",
    "    \n",
    "    medians.append(df_q1[delay_type].median())\n",
    "    medians.append(df_q2[delay_type].median())\n",
    "    medians.append(df_q3[delay_type].median())\n",
    "    medians.append(df_q4[delay_type].median())\n",
    "    \n",
    "    tabulate_data_row = [delay_type]\n",
    "    \n",
    "    for m in medians:\n",
    "        tabulate_data_row.append(m)\n",
    "    \n",
    "    tabulate_data.append(tabulate_data_row)\n",
    "    \n",
    "    del df_concat\n",
    "    del df_q1\n",
    "    del df_q2\n",
    "    del df_q3\n",
    "    del df_q4\n",
    "    \n",
    "print(tabulate(tabulate_data, headers = tabulate_data_col_names))"
   ]
  },
  {
   "cell_type": "markdown",
   "metadata": {},
   "source": [
    "The analysis of delay means and medians for quarters doesn't indicate anything of note."
   ]
  },
  {
   "cell_type": "code",
   "execution_count": null,
   "metadata": {},
   "outputs": [],
   "source": []
  }
 ],
 "metadata": {
  "kernelspec": {
   "display_name": "Python 3.8.2 64-bit",
   "language": "python",
   "name": "python38264bit8229826f72ad4ad2b80c43618b15043f"
  },
  "language_info": {
   "codemirror_mode": {
    "name": "ipython",
    "version": 3
   },
   "file_extension": ".py",
   "mimetype": "text/x-python",
   "name": "python",
   "nbconvert_exporter": "python",
   "pygments_lexer": "ipython3",
   "version": "3.8.2"
  }
 },
 "nbformat": 4,
 "nbformat_minor": 4
}
